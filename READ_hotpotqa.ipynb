{
 "cells": [
  {
   "cell_type": "code",
   "execution_count": 3,
   "metadata": {},
   "outputs": [
    {
     "name": "stderr",
     "output_type": "stream",
     "text": [
      "d:\\tools\\Anaconda\\envs\\lightrag\\Lib\\site-packages\\tqdm\\auto.py:21: TqdmWarning: IProgress not found. Please update jupyter and ipywidgets. See https://ipywidgets.readthedocs.io/en/stable/user_install.html\n",
      "  from .autonotebook import tqdm as notebook_tqdm\n"
     ]
    }
   ],
   "source": [
    "from datasets import load_dataset"
   ]
  },
  {
   "cell_type": "code",
   "execution_count": 23,
   "metadata": {},
   "outputs": [
    {
     "name": "stderr",
     "output_type": "stream",
     "text": [
      "<>:3: SyntaxWarning: invalid escape sequence '\\h'\n",
      "<>:3: SyntaxWarning: invalid escape sequence '\\h'\n",
      "C:\\Users\\79298\\AppData\\Local\\Temp\\ipykernel_29376\\3340570893.py:3: SyntaxWarning: invalid escape sequence '\\h'\n",
      "  path = \"datasets\\hotpotqa\\corpus.jsonl\\corpus.jsonl\"  # 替换为实际路径\n"
     ]
    }
   ],
   "source": [
    "import json\n",
    "\n",
    "path = \"datasets\\hotpotqa\\corpus.jsonl\\corpus.jsonl\"  # 替换为实际路径\n",
    "count=0\n",
    "list=[]\n",
    "with open(path, 'r', encoding='utf-8') as f:\n",
    "    for line in f:\n",
    "        if(count==100):break\n",
    "        try:\n",
    "            data = json.loads(line.strip())  # 去除每行末尾的换行符并解析\n",
    "            #print(data)  # 这里可以对每一行的JSON对象进行处理\n",
    "            list.append(data)\n",
    "        except json.JSONDecodeError as e:\n",
    "            print(f\"Error decoding line: {e}\")\n",
    "        count+=1\n",
    "\n"
   ]
  },
  {
   "cell_type": "code",
   "execution_count": 43,
   "metadata": {},
   "outputs": [
    {
     "name": "stdout",
     "output_type": "stream",
     "text": [
      "{'_id': '12', 'title': 'Anarchism', 'text': 'Anarchism is a political philosophy that advocates self-governed societies based on voluntary institutions. These are often described as stateless societies, although several authors have defined them more specifically as institutions based on non-hierarchical free associations. Anarchism holds the state to be undesirable, unnecessary and harmful.', 'metadata': {'url': 'https://en.wikipedia.org/wiki?curid=12'}}\n"
     ]
    }
   ],
   "source": [
    "print(list[0])"
   ]
  },
  {
   "cell_type": "code",
   "execution_count": 34,
   "metadata": {},
   "outputs": [
    {
     "name": "stdout",
     "output_type": "stream",
     "text": [
      "Anarchism\n",
      "Autism\n",
      "Albedo\n",
      "A\n",
      "Alabama\n",
      "Achilles\n",
      "Abraham Lincoln\n",
      "Aristotle\n",
      "An American in Paris\n",
      "Academy Award for Best Production Design\n",
      "Academy Awards\n",
      "Actrius\n",
      "Animalia (book)\n",
      "International Atomic Time\n",
      "Altruism\n",
      "Ayn Rand\n",
      "Alain Connes\n",
      "Allan Dwan\n",
      "Algeria\n",
      "List of Atlas Shrugged characters\n",
      "Anthropology\n",
      "Agricultural science\n",
      "Alchemy\n",
      "Astronomer\n",
      "ASCII\n",
      "Austin (disambiguation)\n",
      "Animation\n",
      "Apollo\n",
      "Andre Agassi\n",
      "Austroasiatic languages\n",
      "Afroasiatic languages\n",
      "Andorra\n",
      "Arithmetic mean\n",
      "American Football Conference\n",
      "Animal Farm\n",
      "Amphibian\n",
      "Alaska\n",
      "Agriculture\n",
      "Aldous Huxley\n",
      "Aberdeen (disambiguation)\n",
      "Algae\n",
      "Analysis of variance\n",
      "Alkane\n",
      "Appellate procedure in the United States\n",
      "Answer (law)\n",
      "Appellate court\n",
      "Arraignment\n",
      "America the Beautiful\n",
      "Assistive technology\n",
      "Abacus\n",
      "Acid\n",
      "Asphalt\n",
      "American National Standards Institute\n",
      "Argument (disambiguation)\n",
      "Apollo 11\n",
      "Apollo 8\n",
      "Astronaut\n",
      "A Modest Proposal\n",
      "Alkali metal\n",
      "Alphabet\n",
      "Atomic number\n",
      "Anatomy\n",
      "Affirming the consequent\n",
      "Ambiguity\n",
      "Animal (disambiguation)\n",
      "Aardvark\n",
      "Aardwolf\n",
      "Adobe\n",
      "Adventure\n",
      "Asia\n",
      "Aruba\n",
      "Articles of Confederation\n",
      "Asia Minor (disambiguation)\n",
      "Atlantic Ocean\n",
      "Arthur Schopenhauer\n",
      "Angola\n",
      "Demographics of Angola\n",
      "Politics of Angola\n",
      "Economy of Angola\n",
      "Transport in Angola\n",
      "Angolan Armed Forces\n",
      "Foreign relations of Angola\n",
      "Albert Sidney Johnston\n",
      "Android (robot)\n",
      "Alberta\n",
      "Actinopterygii\n",
      "Albert Einstein\n",
      "Afghanistan\n",
      "Albania\n",
      "Allah\n",
      "Algorithms (journal)\n",
      "Azerbaijan\n",
      "Amateur astronomy\n",
      "Aikido\n",
      "Art\n",
      "Agnostida\n",
      "Abortion\n",
      "Abstract (law)\n",
      "American Revolutionary War\n",
      "Ampere\n"
     ]
    }
   ],
   "source": [
    "title_list=[]\n",
    "for l in list:\n",
    "    title_list.append(l[\"title\"])\n",
    "for tl in title_list:\n",
    "    print(tl)\n"
   ]
  },
  {
   "cell_type": "code",
   "execution_count": 33,
   "metadata": {},
   "outputs": [
    {
     "name": "stdout",
     "output_type": "stream",
     "text": [
      "{'url': 'https://en.wikipedia.org/wiki?curid=12'}\n",
      "{'url': 'https://en.wikipedia.org/wiki?curid=25'}\n",
      "{'url': 'https://en.wikipedia.org/wiki?curid=39'}\n",
      "{'url': 'https://en.wikipedia.org/wiki?curid=290'}\n",
      "{'url': 'https://en.wikipedia.org/wiki?curid=303'}\n",
      "{'url': 'https://en.wikipedia.org/wiki?curid=305'}\n",
      "{'url': 'https://en.wikipedia.org/wiki?curid=307'}\n",
      "{'url': 'https://en.wikipedia.org/wiki?curid=308'}\n",
      "{'url': 'https://en.wikipedia.org/wiki?curid=309'}\n",
      "{'url': 'https://en.wikipedia.org/wiki?curid=316'}\n",
      "{'url': 'https://en.wikipedia.org/wiki?curid=324'}\n",
      "{'url': 'https://en.wikipedia.org/wiki?curid=330'}\n",
      "{'url': 'https://en.wikipedia.org/wiki?curid=332'}\n",
      "{'url': 'https://en.wikipedia.org/wiki?curid=334'}\n",
      "{'url': 'https://en.wikipedia.org/wiki?curid=336'}\n",
      "{'url': 'https://en.wikipedia.org/wiki?curid=339'}\n",
      "{'url': 'https://en.wikipedia.org/wiki?curid=340'}\n",
      "{'url': 'https://en.wikipedia.org/wiki?curid=344'}\n",
      "{'url': 'https://en.wikipedia.org/wiki?curid=358'}\n",
      "{'url': 'https://en.wikipedia.org/wiki?curid=359'}\n",
      "{'url': 'https://en.wikipedia.org/wiki?curid=569'}\n",
      "{'url': 'https://en.wikipedia.org/wiki?curid=572'}\n",
      "{'url': 'https://en.wikipedia.org/wiki?curid=573'}\n",
      "{'url': 'https://en.wikipedia.org/wiki?curid=580'}\n",
      "{'url': 'https://en.wikipedia.org/wiki?curid=586'}\n",
      "{'url': 'https://en.wikipedia.org/wiki?curid=590'}\n",
      "{'url': 'https://en.wikipedia.org/wiki?curid=593'}\n",
      "{'url': 'https://en.wikipedia.org/wiki?curid=594'}\n",
      "{'url': 'https://en.wikipedia.org/wiki?curid=595'}\n",
      "{'url': 'https://en.wikipedia.org/wiki?curid=597'}\n",
      "{'url': 'https://en.wikipedia.org/wiki?curid=599'}\n",
      "{'url': 'https://en.wikipedia.org/wiki?curid=600'}\n",
      "{'url': 'https://en.wikipedia.org/wiki?curid=612'}\n",
      "{'url': 'https://en.wikipedia.org/wiki?curid=615'}\n",
      "{'url': 'https://en.wikipedia.org/wiki?curid=620'}\n",
      "{'url': 'https://en.wikipedia.org/wiki?curid=621'}\n",
      "{'url': 'https://en.wikipedia.org/wiki?curid=624'}\n",
      "{'url': 'https://en.wikipedia.org/wiki?curid=627'}\n",
      "{'url': 'https://en.wikipedia.org/wiki?curid=628'}\n",
      "{'url': 'https://en.wikipedia.org/wiki?curid=632'}\n",
      "{'url': 'https://en.wikipedia.org/wiki?curid=633'}\n",
      "{'url': 'https://en.wikipedia.org/wiki?curid=634'}\n",
      "{'url': 'https://en.wikipedia.org/wiki?curid=639'}\n",
      "{'url': 'https://en.wikipedia.org/wiki?curid=640'}\n",
      "{'url': 'https://en.wikipedia.org/wiki?curid=642'}\n",
      "{'url': 'https://en.wikipedia.org/wiki?curid=643'}\n",
      "{'url': 'https://en.wikipedia.org/wiki?curid=649'}\n",
      "{'url': 'https://en.wikipedia.org/wiki?curid=651'}\n",
      "{'url': 'https://en.wikipedia.org/wiki?curid=653'}\n",
      "{'url': 'https://en.wikipedia.org/wiki?curid=655'}\n",
      "{'url': 'https://en.wikipedia.org/wiki?curid=656'}\n",
      "{'url': 'https://en.wikipedia.org/wiki?curid=657'}\n",
      "{'url': 'https://en.wikipedia.org/wiki?curid=659'}\n",
      "{'url': 'https://en.wikipedia.org/wiki?curid=661'}\n",
      "{'url': 'https://en.wikipedia.org/wiki?curid=662'}\n",
      "{'url': 'https://en.wikipedia.org/wiki?curid=663'}\n",
      "{'url': 'https://en.wikipedia.org/wiki?curid=664'}\n",
      "{'url': 'https://en.wikipedia.org/wiki?curid=665'}\n",
      "{'url': 'https://en.wikipedia.org/wiki?curid=666'}\n",
      "{'url': 'https://en.wikipedia.org/wiki?curid=670'}\n",
      "{'url': 'https://en.wikipedia.org/wiki?curid=673'}\n",
      "{'url': 'https://en.wikipedia.org/wiki?curid=674'}\n",
      "{'url': 'https://en.wikipedia.org/wiki?curid=675'}\n",
      "{'url': 'https://en.wikipedia.org/wiki?curid=677'}\n",
      "{'url': 'https://en.wikipedia.org/wiki?curid=679'}\n",
      "{'url': 'https://en.wikipedia.org/wiki?curid=680'}\n",
      "{'url': 'https://en.wikipedia.org/wiki?curid=681'}\n",
      "{'url': 'https://en.wikipedia.org/wiki?curid=682'}\n",
      "{'url': 'https://en.wikipedia.org/wiki?curid=683'}\n",
      "{'url': 'https://en.wikipedia.org/wiki?curid=689'}\n",
      "{'url': 'https://en.wikipedia.org/wiki?curid=690'}\n",
      "{'url': 'https://en.wikipedia.org/wiki?curid=691'}\n",
      "{'url': 'https://en.wikipedia.org/wiki?curid=694'}\n",
      "{'url': 'https://en.wikipedia.org/wiki?curid=698'}\n",
      "{'url': 'https://en.wikipedia.org/wiki?curid=700'}\n",
      "{'url': 'https://en.wikipedia.org/wiki?curid=701'}\n",
      "{'url': 'https://en.wikipedia.org/wiki?curid=704'}\n",
      "{'url': 'https://en.wikipedia.org/wiki?curid=705'}\n",
      "{'url': 'https://en.wikipedia.org/wiki?curid=706'}\n",
      "{'url': 'https://en.wikipedia.org/wiki?curid=708'}\n",
      "{'url': 'https://en.wikipedia.org/wiki?curid=709'}\n",
      "{'url': 'https://en.wikipedia.org/wiki?curid=710'}\n",
      "{'url': 'https://en.wikipedia.org/wiki?curid=711'}\n",
      "{'url': 'https://en.wikipedia.org/wiki?curid=713'}\n",
      "{'url': 'https://en.wikipedia.org/wiki?curid=717'}\n",
      "{'url': 'https://en.wikipedia.org/wiki?curid=734'}\n",
      "{'url': 'https://en.wikipedia.org/wiki?curid=736'}\n",
      "{'url': 'https://en.wikipedia.org/wiki?curid=737'}\n",
      "{'url': 'https://en.wikipedia.org/wiki?curid=738'}\n",
      "{'url': 'https://en.wikipedia.org/wiki?curid=740'}\n",
      "{'url': 'https://en.wikipedia.org/wiki?curid=742'}\n",
      "{'url': 'https://en.wikipedia.org/wiki?curid=746'}\n",
      "{'url': 'https://en.wikipedia.org/wiki?curid=748'}\n",
      "{'url': 'https://en.wikipedia.org/wiki?curid=751'}\n",
      "{'url': 'https://en.wikipedia.org/wiki?curid=752'}\n",
      "{'url': 'https://en.wikipedia.org/wiki?curid=764'}\n",
      "{'url': 'https://en.wikipedia.org/wiki?curid=765'}\n",
      "{'url': 'https://en.wikipedia.org/wiki?curid=766'}\n",
      "{'url': 'https://en.wikipedia.org/wiki?curid=771'}\n",
      "{'url': 'https://en.wikipedia.org/wiki?curid=772'}\n"
     ]
    }
   ],
   "source": [
    "meta_list=[]\n",
    "for l in list:\n",
    "    meta_list.append(l[\"metadata\"])\n",
    "for ml in meta_list:\n",
    "    print(ml)"
   ]
  },
  {
   "cell_type": "code",
   "execution_count": 37,
   "metadata": {},
   "outputs": [
    {
     "name": "stdout",
     "output_type": "stream",
     "text": [
      "Anarchism is a political philosophy that advocates self-governed societies based on voluntary institutions. These are often described as stateless societies, although several authors have defined them more specifically as institutions based on non-hierarchical free associations. Anarchism holds the state to be undesirable, unnecessary and harmful.\n",
      "\n",
      "Autism is a neurodevelopmental disorder characterized by impaired social interaction, impaired verbal and non-verbal communication, and restricted and repetitive behavior. Parents usually notice signs in the first two years of their child's life. These signs often develop gradually, though some children with autism reach their developmental milestones at a normal pace and then regress. The diagnostic criteria require that symptoms become apparent in early childhood, typically before age three.\n",
      "\n",
      "Albedo ( ) is a measure for reflectance or optical brightness (Latin \"albedo,\" \"whiteness\") of a surface. It is dimensionless and measured on a scale from zero (corresponding to a black body that absorbs all incident radiation) to one (corresponding to a white body that reflects all incident radiation).\n",
      "\n",
      "A (named , plural \"As\", \"A's\", \"a\"s, \"a's\" or \"aes\" ) is the first letter and the first vowel of the ISO basic Latin alphabet. It is similar to the Ancient Greek letter alpha, from which it derives. The upper-case version consists of the two slanting sides of a triangle, crossed in the middle by a horizontal bar. The lower-case version can be written in two forms: the double-storey a and single-storey ɑ. The latter is commonly used in handwriting and fonts based on it, especially fonts intended to be read by children, and is also found in italic type.\n",
      "\n",
      "Alabama ( ) is a state in the southeastern region of the United States. It is bordered by Tennessee to the north, Georgia to the east, Florida and the Gulf of Mexico to the south, and Mississippi to the west. Alabama is the 30th largest by area and the 24th-most populous of the U.S. states. With a total of 1500 mi of inland waterways, Alabama has among the most of any state.\n",
      "\n",
      "In Greek mythology, Achilles ( , ; ] ) was a Greek hero of the Trojan War and the central character and greatest warrior of Homer's \"Iliad\". His mother was the immortal nereid Thetis, and his father, the mortal Peleus, was the king of the Myrmidons.\n",
      "\n",
      "Abraham Lincoln ( ; February 12, 1809 – April 15, 1865) was an American politician and lawyer who served as the 16th President of the United States from March 1861 until his assassination in April 1865. Lincoln led the United States through its Civil War—its bloodiest war and perhaps its greatest moral, constitutional, and political crisis. In doing so, he preserved the Union, paved the way to the abolition of slavery, strengthened the federal government, and modernized the economy.\n",
      "\n",
      "Aristotle ( ; Greek: Ἀριστοτέλης , , \"Aristotélēs\"; 384–322 BC) was an ancient Greek philosopher and scientist born in the city of Stagira, Chalkidice, on the northern periphery of Classical Greece. His father, Nicomachus, died when Aristotle was a child, whereafter Proxenus of Atarneus became his guardian. At seventeen or eighteen years of age, he joined Plato's Academy in Athens and remained there until the age of thirty-seven (c. 347 BC). His writings cover many subjects – including physics, biology, zoology, metaphysics, logic, ethics, aesthetics, poetry, theater, music, rhetoric, linguistics, politics and government – and constitute the first comprehensive system of Western philosophy. Shortly after Plato died, Aristotle left Athens and, at the request of Philip II of Macedon, tutored Alexander the Great beginning in 343 BC.\n",
      "\n",
      "An American in Paris is a jazz-influenced orchestral piece by the American composer George Gershwin, written in 1928. Inspired by the time Gershwin had spent in Paris, it evokes the sights and energy of the French capital in the 1920s and is one of his best-known compositions.\n",
      "\n",
      "The Academy Award for Best Production Design recognizes achievement for art direction in film. The category's original name was Best Art Direction, but was changed to its current name in 2012 for the 85th Academy Awards. This change resulted from the Art Director's branch of the Academy of Motion Picture Arts and Sciences (AMPAS) being renamed the Designer's branch. Since 1947, the award is shared with the set decorator(s). It is awarded to the best interior design in a film.\n",
      "\n",
      "The Academy Awards, now known officially as The Oscars, is a set of twenty-four awards for artistic and technical merit in the American film industry, given annually by the Academy of Motion Picture Arts and Sciences (AMPAS), to recognize excellence in cinematic achievements as assessed by the Academy's voting membership. The various category winners are awarded a copy of a golden statuette, officially called the \"Academy Award of Merit\", which has become commonly known by its nickname \"Oscar\". The awards, first presented in 1929 at the Hollywood Roosevelt Hotel, are overseen by AMPAS.\n",
      "\n",
      "Actresses (Catalan: Actrius) is a 1997 Catalan language Spanish drama film produced and directed by Ventura Pons and based on the award-winning stage play \"E.R.\" by Josep Maria Benet i Jornet. The film has no male actors, with all roles played by females. The film was produced in 1996.\n",
      "\n",
      "Animalia is an illustrated children's book by Graeme Base. It was originally published in 1986, followed by a tenth anniversary edition in 1996, and a 25th anniversary edition in 2012. Over three million copies have been sold. A special numbered and signed anniversary edition was also published in 1996, with an embossed gold jacket.\n",
      "\n",
      "International Atomic Time (TAI, from the French name \"temps atomique international\" ) is a high-precision atomic coordinate time standard based on the notional passage of proper time on Earth's geoid. It is the principal realisation of Terrestrial Time (except for a fixed offset of epoch). It is also the basis for Coordinated Universal Time (UTC), which is used for civil timekeeping all over the Earth's surface. s of 31 2016 when another leap second was added, TAI is exactly 37 seconds ahead of UTC. The 37 seconds results from the initial difference of 10 seconds at the start of 1972, plus 27 leap seconds in UTC since 1972.\n",
      "\n",
      "Altruism or selflessness is the principle or practice of concern for the welfare of others. It is a traditional virtue in many cultures and a core aspect of various religious traditions and secular worldviews, though the concept of \"others\" toward whom concern should be directed can vary among cultures and religions. Altruism or selflessness is the opposite of selfishness. The word was coined by the French philosopher Auguste Comte in French, as \"altruisme\", for an antonym of egoism. He derived it from the Italian \"altrui\", which in turn was derived from Latin \"alteri\", meaning \"other people\" or \"somebody else\".\n",
      "\n",
      "Ayn Rand ( ; born Alisa Zinov'yevna Rosenbaum , Russian: Али́са Зино́вьевна Розенба́ум ; February 2 [O.S. January 20] 1905  – March 6, 1982) was a Russian-American novelist, philosopher, playwright, and screenwriter. She is known for her two best-selling novels, \"The Fountainhead\" and \"Atlas Shrugged\", and for developing a philosophical system she called Objectivism. Educated in Russia, she moved to the United States in 1926. She had a play produced on Broadway in 1935–1936. After two early novels that were initially unsuccessful in America, she achieved fame with her 1943 novel, \"The Fountainhead\".\n",
      "\n",
      "Alain Connes (] ; born 1 April 1947) is a French mathematician, currently Professor at the Collège de France, IHÉS, Ohio State University and Vanderbilt University. He was an Invited Professor at the Conservatoire national des arts et métiers (2000).\n",
      "\n",
      "Allan Dwan (3 April 1885 – 28 December 1981) was a pioneering Canadian-born American motion picture director, producer and screenwriter.\n",
      "\n",
      "Algeria (Arabic: الجزائر‎ ‎ \"al-Jazā'ir \"; Berber: , \"Dzayer \"; French: \"Algérie\" ), officially the People's Democratic Republic of Algeria, is a sovereign state in North Africa on the Mediterranean coast. Its capital and most populous city is Algiers, located in the country's far north. With an area of 2381741 km2 , Algeria is the tenth-largest country in the world, and the largest in Africa. Algeria is bordered to the northeast by Tunisia, to the east by Libya, to the west by Morocco, to the southwest by the Western Saharan territory, Mauritania, and Mali, to the southeast by Niger, and to the north by the Mediterranean Sea. The country is a semi-presidential republic consisting of 48 provinces and 1,541 communes (counties). Abdelaziz Bouteflika has been President since 1999.\n",
      "\n",
      "This is a list of characters in Ayn Rand's novel \"Atlas Shrugged.\"\n",
      "\n",
      "Anthropology is the study of various aspects of humans within past and present societies. Social anthropology and cultural anthropology study the norms and values of societies. Linguistic anthropology studies how language affects social life. Biological or physical anthropology studies the biological development of humans.\n",
      "\n",
      "Agricultural science is a broad multidisciplinary field of biology that encompasses the parts of exact, natural, economic and social sciences that are used in the practice and understanding of agriculture. (Veterinary science, but not animal science, is often excluded from the definition.)</onlyinclude>\n",
      "\n",
      "Alchemy is a philosophical and protoscientific tradition practiced throughout Europe, Africa and Asia. It aimed to purify, mature, and perfect certain objects. Common aims were chrysopoeia, the transmutation of \"base metals\" (e.g., lead) into \"noble metals\" (particularly gold); the creation of an elixir of immortality; the creation of panaceas able to cure any disease; and the development of an alkahest, a universal solvent. The perfection of the human body and soul was thought to permit or result from the alchemical magnum opus and, in the Hellenistic and western tradition, the achievement of gnosis. In Europe, the creation of a philosopher's stone was variously connected with all of these projects.\n",
      "\n",
      "An astronomer is a scientist in the field of astronomy who concentrates their studies on a specific question or field outside the scope of Earth. They look at stars, planets, moons, comets and galaxies, as well as many other celestial objects — either in observational astronomy, in analyzing the data or in theoretical astronomy. Examples of topics or fields astronomers work on include: planetary science, solar astronomy, the origin or evolution of stars, or the formation of galaxies. There are also related but distinct subjects like physical cosmology which studies the Universe as a whole.\n",
      "\n",
      "ASCII ( ), abbreviated from American Standard Code for Information Interchange, is a character encoding standard for electronic communication. ASCII codes represent text in computers, telecommunications equipment, and other devices. Most modern character-encoding schemes are based on ASCII, although they support many additional characters.\n",
      "\n",
      "Austin is the capital of Texas in the United States.\n",
      "\n",
      "Animation is the process of making the illusion of motion and the illusion of change by means of the rapid succession of sequential images that minimally differ from each other. The illusion—as in motion pictures in general—is thought to rely on the phi phenomenon and beta movement, but the exact causes are still unclear.\n",
      "\n",
      "Apollo (Attic, Ionic, and Homeric Greek: Ἀπόλλων , \"Apollōn\" ( Ἀπόλλωνος ); Doric: Ἀπέλλων , \"Apellōn\"; Arcadocypriot: Ἀπείλων , \"Apeilōn\"; Aeolic: Ἄπλουν , \"Aploun\"; Latin: \"Apollō\" ) is one of the most important and complex of the Olympian deities in classical Greek and Roman religion and Greek and Roman mythology. The ideal of the \"kouros\" (a beardless, athletic youth), Apollo has been variously recognized as a god of music, truth and prophecy, healing, the sun and light, plague, poetry, and more. Apollo is the son of Zeus and Leto, and has a twin sister, the chaste huntress Artemis. Apollo is known in Greek-influenced Etruscan mythology as \"Apulu\".\n",
      "\n",
      "Andre Kirk Agassi ( ; born April 29, 1970) is an American retired professional tennis player and former World No. 1 who was one of the sport's most dominant players from the early 1990s to the mid-2000s. Generally considered by critics and fellow players to be one of the greatest tennis players of all time, Agassi has been called the greatest service returner in the history of the game. Described by the BBC upon his retirement as \"perhaps the biggest worldwide star in the sport's history\", Agassi compiled performances that, along with his unorthodox apparel and attitude, saw him cited as one of the most charismatic players in history. As a result, he is credited for helping to revive the popularity of tennis during the 1990s.\n",
      "\n",
      "The Austroasiatic languages, in recent classifications synonymous with Mon–Khmer, are a large language family of continental Southeast Asia, also scattered throughout India, Bangladesh, Nepal and the southern border of China. The name \"Austroasiatic\" comes from the Latin words for \"South\" and \"Asia\", hence \"South Asia\". Of these languages, only Vietnamese, Khmer, and Mon have a long-established recorded history, and only Vietnamese and Khmer have official status as modern national languages (in Vietnam and Cambodia, respectively). On the subnational level, Khasi has official status in Meghalaya while Santhali, Ho and Mundari are official languages of Jharkhand. In Myanmar, the Wa language is the de facto official language of Wa State. The rest of the languages are spoken by minority groups and have no official status.\n",
      "\n",
      "Afroasiatic (Afro-Asiatic), also known as Afrasian and traditionally as Hamito-Semitic (Chamito-Semitic), is a large language family of several hundred related languages and dialects. It comprises about 300 or so living languages and dialects, according to the 2009 Ethnologue estimate. It includes languages spoken predominantly in West Asia, North Africa, the Horn of Africa, and parts of the Sahel.\n",
      "\n",
      "Andorra ( ; ] , ] ), officially the Principality of Andorra (Catalan: \"Principat d'Andorra\" ), also called the Principality of the Valleys of Andorra (Catalan: \"Principat de les Valls d'Andorra\" ), is a sovereign landlocked microstate in Southwestern Europe, located in the eastern Pyrenees mountains and bordered by Spain and France. Created under a charter in 988, the present principality was formed in 1278. It is known as a principality as it is a diarchy headed by two Co-Princesthe Catholic Bishop of Urgell in Spain, and the President of France.\n",
      "\n",
      "In mathematics and statistics, the arithmetic mean ( , stress on third syllable of \"arithmetic\"), or simply the mean or average when the context is clear, is the sum of a collection of numbers divided by the number of numbers in the collection. The collection is often a set of results of an experiment, or a set of results from a survey. The term \"arithmetic mean\" is preferred in some contexts in mathematics and statistics because it helps distinguish it from other means, such as the geometric mean and the harmonic mean.\n",
      "\n",
      "The American Football Conference (AFC) is one of the two conferences of the National Football League (NFL), the highest professional level of American football in the United States. This conference and its counterpart, the National Football Conference (NFC), currently contain 16 teams each, making up the 32 teams of the NFL. Both conferences were created as part of the 1970 merger with the rival American Football League (AFL), with all ten of the former AFL teams and three NFL teams forming the AFC, and the remaining thirteen NFL clubs forming the NFC. A series of league expansions and division realignments have occurred since the merger, thus making the current total 16 clubs per each conference.\n",
      "\n",
      "Animal Farm is an allegorical novella by George Orwell, first published in England on 17 August 1945. According to Orwell, the book reflects events leading up to the Russian Revolution of 1917 and then on into the Stalinist era of the Soviet Union. Orwell, a democratic socialist, was a critic of Joseph Stalin and hostile to Moscow-directed Stalinism, an attitude that was critically shaped by his experiences during the Spanish Civil War. The Soviet Union, he believed, had become a brutal dictatorship, built upon a cult of personality and enforced by a reign of terror. In a letter to Yvonne Davet, Orwell described \"Animal Farm\" as a satirical tale against Stalin (\"\"un conte satirique contre Staline\"\"), and in his essay \"Why I Write\" (1946), wrote that \"Animal Farm\" was the first book in which he tried, with full consciousness of what he was doing, \"to fuse political purpose and artistic purpose into one whole\".\n",
      "\n",
      "Amphibians are ectothermic, tetrapod vertebrates of the class Amphibia. Modern amphibians are all Lissamphibia. They inhabit a wide variety of habitats, with most species living within terrestrial, fossorial, arboreal or freshwater aquatic ecosystems. Thus amphibians typically start out as larvae living in water, but some species have developed behavioural adaptations to bypass this. The young generally undergo metamorphosis from larva with gills to an adult air-breathing form with lungs. Amphibians use their skin as a secondary respiratory surface and some small terrestrial salamanders and frogs lack lungs and rely entirely on their skin. They are superficially similar to lizards but, along with mammals and birds, reptiles are amniotes and do not require water bodies in which to breed. With their complex reproductive needs and permeable skins, amphibians are often ecological indicators; in recent decades there has been a dramatic decline in amphibian populations for many species around the globe.\n",
      "\n",
      "Alaska ( ) is a U.S. state located in the northwest extremity of North America. The Canadian administrative divisions of British Columbia and Yukon border the state to the east, its most extreme western part is Attu Island, and it has a maritime border with Russia to the west across the Bering Strait. To the north are the Chukchi and Beaufort seas–the southern parts of the Arctic Ocean. The Pacific Ocean lies to the south and southwest. It is the largest state in the United States by area and the\n",
      "\n",
      "Agriculture is the cultivation and breeding of animals, plants and fungi for food, fiber, biofuel, medicinal plants and other products used to sustain and enhance human life. Agriculture was the key development in the rise of sedentary human civilization, whereby farming of domesticated species created food surpluses that nurtured the development of civilization. The study of agriculture is known as agricultural science. The history of agriculture dates back thousands of years, and its development has been driven and defined by greatly different climates, cultures, and technologies. Industrial agriculture based on large-scale monoculture farming has become the dominant agricultural methodology.\n",
      "\n",
      "Aldous Leonard Huxley ( ; 26 July 1894 – 22 November 1963) was an English writer, novelist, philosopher, and prominent member of the Huxley family. He graduated from Balliol College at the University of Oxford with a first-class honours in English literature.\n",
      "\n",
      "Aberdeen is a city in Scotland, United Kingdom.\n",
      "\n",
      "Algae ( ; singular alga ) is an informal term for a large, diverse group of photosynthetic organisms which are not necessarily closely related, and is thus polyphyletic. Included organisms range from unicellular genera, such as \"Chlorella\" and the diatoms, to multicellular forms, such as the giant kelp, a large brown alga which may grow up to 50 m in length. Most are aquatic and autotrophic and lack many of the distinct cell and tissue types, such as stomata, xylem, and phloem, which are found in land plants. The largest and most complex marine algae are called seaweeds, while the most complex freshwater forms are the Charophyta, a division of green algae which includes, for example, \"Spirogyra\" and the stoneworts.\n",
      "\n",
      "Analysis of variance (ANOVA) is a collection of statistical models used to analyze the differences among group means and their associated procedures (such as \"variation\" among and between groups), developed by statistician and evolutionary biologist Ronald Fisher. In the ANOVA setting, the observed variance in a particular variable is partitioned into components attributable to different sources of variation. In its simplest form, ANOVA provides a statistical test of whether or not the means of several groups are equal, and therefore generalizes the \"t\"-test to more than two groups. ANOVAs are useful for comparing (testing) three or more means (groups or variables) for statistical significance. It is conceptually similar to multiple two-sample t-tests, but is more conservative (results in less type I error) and is therefore suited to a wide range of practical problems.\n",
      "\n",
      "In organic chemistry, an alkane, or paraffin (a historical name that also has other meanings), is an acyclic saturated hydrocarbon. In other words, an alkane consists of hydrogen and carbon atoms arranged in a tree structure in which all the carbon-carbon bonds are single. Alkanes have the general chemical formula C H . The alkanes range in complexity from the simplest case of methane, CH where \"n\" = 1 (sometimes called the parent molecule), to arbitrarily large molecules.\n",
      "\n",
      "United States appellate procedure involves the rules and regulations for filing appeals in state courts and federal courts. The nature of an appeal can vary greatly depending on the type of case and the rules of the court in the jurisdiction where the case was prosecuted. There are many types of standard of review for appeals, such as \"de novo\" and abuse of discretion. However, most appeals begin when a party files a petition for review to a higher court for the purpose of overturning the lower court's decision.\n",
      "\n",
      "In law, an Answer was originally a solemn assertion in opposition to someone or something, and thus generally any counter-statement or defense, a reply to a question or response, or objection, or a correct solution of a problem.\n",
      "\n",
      "An appellate court, commonly called an appeals court, court of appeals (American English), appeal court (British English), court of second instance or second instance court, is any court of law that is empowered to hear an appeal of a trial court or other lower tribunal. In most jurisdictions, the court system is divided into at least three levels: the trial court, which initially hears cases and reviews evidence and testimony to determine the facts of the case; at least one intermediate appellate court; and a supreme court (or court of last resort) which primarily reviews the decisions of the intermediate courts. A jurisdiction's supreme court is that jurisdiction's highest appellate court. Appellate courts nationwide can operate under varying rules.\n",
      "\n",
      "Arraignment is a formal reading of a criminal charging document in the presence of the defendant to inform the defendant of the charges against him or her. In response to arraignment, the accused is expected to enter a plea. Acceptable pleas vary among jurisdiction but they generally include \"guilty\", \"not guilty\", and the peremptory pleas (or pleas in bar) setting out reasons why a trial cannot proceed. Pleas of \"nolo contendere\" (no contest) and the \"\"Alford\" plea\" are allowed in some circumstances.\n",
      "\n",
      "\"America the Beautiful\" is an American patriotic song. The lyrics were written by Katharine Lee Bates, and the music was composed by church organist and choirmaster Samuel A. Ward at Grace Episcopal Church in Newark, New Jersey.\n",
      "\n",
      "Assistive technology is an umbrella term that includes assistive, adaptive, and rehabilitative devices for people with disabilities and also includes the process used in selecting, locating, and using them. Assistive technology promotes greater independence by enabling people to perform tasks that they were formerly unable to accomplish, or had great difficulty accomplishing, by providing enhancements to, or changing methods of interacting with, the technology needed to accomplish such tasks.\n",
      "\n",
      "The abacus (\"plural\" abaci or abacuses), also called a counting frame, is a calculating tool that was in use in Europe, China and Russia, centuries before the adoption of the written Hindu–Arabic numeral system. The exact origin of the abacus is still unknown. Today, abaci are often constructed as a bamboo frame with beads sliding on wires, but originally they were beans or stones moved in grooves in sand or on tablets of wood, stone, or metal.\n",
      "\n",
      "An acid is a molecule or ion capable of donating a hydron (proton or hydrogen ion H), or, alternatively, capable of forming a covalent bond with an electron pair (a Lewis acid).\n",
      "\n",
      "Asphalt , also known as bitumen , is a sticky, black, and highly viscous liquid or semi-solid form of petroleum. It may be found in natural deposits or may be a refined product, and is classed as a pitch. Before the 20th century, the term asphaltum was also used. The word is derived from the Ancient Greek ἄσφαλτος \"ásphaltos\".\n",
      "\n",
      "The American National Standards Institute (ANSI, ) is a private non-profit organization that oversees the development of voluntary consensus standards for products, services, processes, systems, and personnel in the United States. The organization also coordinates U.S. standards with international standards so that American products can be used worldwide.\n",
      "\n",
      "In logic and philosophy, an argument is an attempt to persuade someone of something, or give evidence or reasons for accepting a particular conclusion.\n",
      "\n",
      "Apollo 11 was the spaceflight that landed the first two humans on the Moon. Mission commander Neil Armstrong and pilot Buzz Aldrin, both American, landed the lunar module \"Eagle\" on July 20, 1969, at 20:18 UTC. Armstrong became the first to step onto the lunar surface six hours after landing on July 21 at 02:56:15 UTC; Aldrin joined him about 20 minutes later. They spent about two and a quarter hours together outside the spacecraft, and collected 47.5 lb of lunar material to bring back to Earth. Michael Collins piloted the command module \"Columbia\" alone in lunar orbit while they were on the Moon's surface. Armstrong and Aldrin spent just under a day on the lunar surface before rejoining \"Columbia\" in lunar orbit.\n",
      "\n",
      "Apollo 8, the second human spaceflight mission in the United States Apollo space program, was launched on December 21, 1968, and became the first crewed spacecraft to leave Earth orbit, reach the Earth's Moon, orbit it and return safely to Earth. The three-astronaut crew — Commander Frank Borman, Command Module Pilot James Lovell, and Lunar Module Pilot William Anders — became the first humans to: travel beyond low Earth orbit; escape Earth's gravity; see Earth as a whole planet; enter the gravity well of another celestial body (Earth's moon); orbit another celestial body (Earth's moon); directly see the far side of the Moon with their own eyes; witness an Earthrise; escape the gravity of another celestial body (Earth's moon); and re-enter the gravitational well of Earth. The 1968 mission, the third flight of the Saturn V rocket and that rocket's first crewed launch, was also the first human spaceflight launch from the Kennedy Space Center, Florida, located adjacent to Cape Canaveral Air Force Station.\n",
      "\n",
      "An astronaut or cosmonaut (Russian: космонавт ) is a person trained by a human spaceflight program to command, pilot, or serve as a crew member of a spacecraft. Although generally reserved for professional space travelers, the terms are sometimes applied to anyone who travels into space, including scientists, politicians, journalists, and tourists.\n",
      "\n",
      "A Modest Proposal For preventing the Children of Poor People From being a Burthen to Their Parents or Country, and For making them Beneficial to the Publick, commonly referred to as A Modest Proposal, is a Juvenalian satirical essay written and published anonymously by Jonathan Swift in 1729. Swift suggests that the impoverished Irish might ease their economic troubles by selling their children as food for rich gentlemen and ladies. This satirical hyperbole mocked heartless attitudes towards the poor, as well as British policy toward the Irish in general.\n",
      "\n",
      "The alkali metals are a group (column) in the periodic table consisting of the chemical elements lithium (Li), sodium (Na), potassium (K), rubidium (Rb), caesium (Cs), and francium (Fr). This group lies in the s-block of the periodic table of elements as all alkali metals have their outermost electron in an s-orbital: this shared electron configuration results in them having very similar characteristic properties. Indeed, the alkali metals provide the best example of group trends in properties in the periodic table, with elements exhibiting well-characterised homologous behaviour.\n",
      "\n",
      "An alphabet is a standard set of letters (basic written symbols or graphemes) that is used to write one or more languages based upon the general principle that the letters represent phonemes (basic significant sounds) of the spoken language. This is in contrast to other types of writing systems, such as syllabaries (in which each character represents a syllable) and logographies (in which each character represents a word, morpheme, or semantic unit).\n",
      "\n",
      "The atomic number or proton number (symbol Z) of a chemical element is the number of protons found in the nucleus of an atom. It is identical to the charge number of the nucleus. The atomic number uniquely identifies a chemical element. In an uncharged atom, the atomic number is also equal to the number of electrons.\n",
      "\n",
      "Anatomy (Greek anatomē, “dissection”) is the branch of biology concerned with the study of the structure of organisms and their parts. Anatomy is a branch of natural science dealing with the structural organization of living things. It is an old science, having its beginnings in prehistoric times. Anatomy is inherently tied to embryology, comparative anatomy, evolutionary biology, and phylogeny, as these are the processes by which anatomy is generated over immediate (embryology) and long (evolution) timescales. Human anatomy is one of the basic essential sciences of medicine.\n",
      "\n",
      "Affirming the consequent, sometimes called converse error, fallacy of the converse or confusion of necessity and sufficiency, is a formal fallacy of inferring the converse from the original statement. The corresponding argument has the general form:\n",
      "\n",
      "Ambiguity is a type of uncertainty of meaning in which several interpretations are plausible. It is thus an attribute of any idea or statement whose intended meaning cannot be definitively resolved according to a rule or process with a finite number of steps. (The \"ambi-\" part of the term reflects an idea of \"two\", as in \"two meanings\".)\n",
      "\n",
      "An animal is a multicellular, eukaryotic organism of the kingdom Animalia or Metazoa.\n",
      "\n",
      "The aardvark ( ; \"Orycteropus afer\") is a medium-sized, burrowing, nocturnal mammal native to Africa. It is the only living species of the order Tubulidentata, although other prehistoric species and genera of Tubulidentata are known. Unlike other insectivores, it has a long pig-like snout, which is used to sniff out food. It roams over most of the southern two-thirds of the African continent, avoiding areas that are mainly rocky. A nocturnal feeder, it subsists on ants and termites, which it will dig out of their hills using its sharp claws and powerful legs. It also digs to create burrows in which to live and rear its young. It receives a \"least concern\" rating from the IUCN, although its numbers seem to be decreasing.\n",
      "\n",
      "The aardwolf (\"Proteles cristata\") is a small, insectivorous mammal, native to East and Southern Africa. Its name means \"earth wolf\" in Afrikaans and Dutch. It is also called \"maanhaar jackal\" (Afrikaans for \"mane jackal\") or \"civet hyena\", based on its habit of secreting substances from its anal gland, a characteristic shared with the civet. The aardwolf is in the same family as the hyena. Unlike many of its relatives in the order Carnivora, the aardwolf does not hunt large animals. It eats insects, mainly termites – one aardwolf can eat about 250,000 termites during a single night, using its long, sticky tongue to capture them. The aardwolf lives in the shrublands of eastern and southern Africa – open lands covered with stunted trees and shrubs. It is nocturnal, resting in burrows during the day and emerging at night to seek food. Its diet consists mainly of termites and insect larvae.\n",
      "\n",
      "Adobe ( , ; ] ) is a building material made from earth and often organic material. Adobe means mudbrick in Spanish, but in some English speaking regions of Spanish heritage it refers to any kind of earth construction, as most adobe buildings are similar in appearance to cob and rammed earth buildings. Adobe is among the earliest building materials, and is used throughout the world.\n",
      "\n",
      "An adventure is an exciting or unusual experience. It may also be a bold, usually risky undertaking, with an uncertain outcome. Adventures may be activities with some potential for physical danger such as traveling, exploring, skydiving, mountain climbing, scuba diving, river rafting or participating in extreme sports. The term also broadly refers to any enterprise that is potentially fraught with physical, financial or psychological risk, such as a business venture, or other major life undertakings.\n",
      "\n",
      "Asia ( ) is Earth's largest and most populous continent, located primarily in the Eastern and Northern Hemispheres. It shares the continental landmass of Eurasia with the continent of Europe and the continental landmass of Afro-Eurasia with both Europe and Africa. Asia covers an area of 44,579,000 km2 , about 30% of Earth's total land area and 8.7% of the Earth's total surface area. The continent, which has long been home to the majority of the human population, was the site of many of the first civilizations. Asia is notable for not only its overall large size and population, but also dense and large settlements as well as vast barely populated regions within the continent of /1e9 round 1 billion people, or roughly 60% of the world's population.\n",
      "\n",
      "Aruba ( ; ] ) is a constituent country of the Kingdom of the Netherlands in the southern Caribbean Sea, located about 1600 km west of the main part of the Lesser Antilles and 29 km north of the coast of Venezuela. It measures 32 km long from its northwestern to its southeastern end and 10 km across at its widest point. Together with Bonaire and Curaçao, Aruba forms a group referred to as the ABC islands. Collectively, Aruba and the other Dutch islands in the Caribbean are often called the Dutch Caribbean.\n",
      "\n",
      "The Articles of Confederation, formally the Articles of Confederation and Perpetual Union, was an agreement among the 13 original states of the United States of America that served as its first constitution. Its drafting by a committee appointed by the Second Continental Congress began on July 12, 1776, and an approved version was sent to the states for ratification on November 15, 1777. The Articles of Confederation came into force on March 1, 1781, after being ratified by all 13 states. A guiding principle of the Articles was to preserve the independence and sovereignty of the states. The federal government received only those powers which the colonies had recognized as belonging to king and parliament.\n",
      "\n",
      "Asia Minor is an alternative name for Anatolia, the westernmost protrusion of Asia, comprising the majority of the Republic of Turkey. It may also refer to:\n",
      "\n",
      "The Atlantic Ocean is the second largest of the world's oceans with a total area of about 106,460,000 km2 . It covers approximately 20 percent of the Earth's surface and about 29 percent of its water surface area. It separates the \"Old World\" from the \"New World\".\n",
      "\n",
      "Arthur Schopenhauer ( ; ] ; 22 February 1788 – 21 September 1860) was a German philosopher. He is best known for his 1818 work \"The World as Will and Representation\" (expanded in 1844), wherein he characterizes the phenomenal world as the product of a blind and insatiable metaphysical will. Proceeding from the transcendental idealism of Immanuel Kant, Schopenhauer developed an atheistic metaphysical and ethical system that has been described as an exemplary manifestation of philosophical pessimism, rejecting the contemporaneous post-Kantian philosophies of German idealism. Schopenhauer was among the first thinkers in Western philosophy to share and affirm significant tenets of Eastern philosophy (e.g., asceticism, the world-as-appearance), having initially arrived at similar conclusions as the result of his own philosophical work.\n",
      "\n",
      "Angola , officially the Republic of Angola (Portuguese: \"República de Angola\" ] ; Kikongo, Kimbundu and Umbundu: \"Repubilika ya Ngola\"), is a country in Southern Africa. It is the seventh-largest country in Africa and is bordered by Namibia to the south, the Democratic Republic of the Congo to the north, Zambia to the east, and the Atlantic Ocean to west. The exclave province of Cabinda has borders with the Republic of the Congo and the Democratic Republic of the Congo. The capital and largest city of Angola is Luanda.\n",
      "\n",
      "This article is about the demographic features of the population of Angola, including population density, ethnicity, education level, health of the populace, economic status, religious affiliations and other aspects of the population.\n",
      "\n",
      "Since the adoption of a new constitution in 2010, the politics of Angola takes place in a framework of a presidential republic, whereby the President of Angola is both head of state and head of government, and of a multi-party system. Executive power is exercised by the government. Legislative power is vested in the President, the government and parliament.\n",
      "\n",
      "The Economy of Angola is one of the fastest-growing in the world, with reported annual average GDP growth of 11.1 percent from 2001 to 2010. It is still recovering from 27 years of the civil war that plagued the country from its independence in 1975 to 2002. Despite extensive oil and gas resources, diamonds, hydroelectric potential, and rich agricultural land, Angola remains poor, and a third of the population relies on subsistence agriculture. Since 2002, when the 27-year civil war ended, the nation has worked to repair and improve ravaged infrastructure and weakened political and social institutions. High international oil prices and rising oil production have contributed to the very strong economic growth since 1998, but corruption and public-sector mismanagement remain, particularly in the oil sector, which accounts for over 50 percent of GDP, over 90 percent of export revenue, and over 80 percent of government revenue.\n",
      "\n",
      "Transport in Angola comprises:\n",
      "\n",
      "The Angolan Armed Forces (Portuguese: \"Forças Armadas Angolanas\") or FAA are the military of Angola.\n",
      "\n",
      "The foreign relations of Angola are based on Angola's strong support of U.S. foreign policy as the Angolan economy is dependent on U.S. foreign aid.\n",
      "\n",
      "Albert Sidney Johnston (February 2, 1803 – April 6, 1862) served as a general in three different armies: the Texian (\"i.e.\" Republic of Texas) Army, the United States Army, and the Confederate States Army. He saw extensive combat during his military career, fighting actions in the Black Hawk War, Texas War of Independence, the Mexican–American War, the Utah War, and the American Civil War.\n",
      "\n",
      "An android is a humanoid robot or synthetic organism designed to look and act like a human, especially one with a body having a flesh-like resemblance. Historically, androids remained completely within the domain of science fiction where they are frequently seen in film and television. Only recently have advancements in robot technology allowed the design of functional and realistic humanoid robots.\n",
      "\n",
      "Alberta ( ) is a western province of Canada. With an estimated population of 4,067,175 as of 2016 census, it is Canada's fourth-most populous province and the most populous of Canada's three prairie provinces. Its area is about 660,000 km2 . Alberta and its neighbour Saskatchewan were districts of the Northwest Territories until they were established as provinces on September 1, 1905. The premier has been Rachel Notley since May 2015.\n",
      "\n",
      "Actinopterygii , or the ray-finned fishes, constitute a class or subclass of the bony fishes.\n",
      "\n",
      "Albert Einstein (14 March 1879 – 18 April 1955) was a German-born theoretical physicist. Einstein developed the theory of relativity, one of the two pillars of modern physics (alongside quantum mechanics). Einstein's work is also known for its influence on the philosophy of science. Einstein is best known by the general public for his mass–energy equivalence formula \"E\" = \"mc\" (which has been dubbed \"the world's most famous equation\"). He received the 1921 Nobel Prize in Physics \"for his services to theoretical physics, and especially for his discovery of the law of the photoelectric effect\", a pivotal step in the evolution of quantum theory.\n",
      "\n",
      "Afghanistan ( ; Pashto/Dari: , Pashto: \"Afġānistān\" ] , Dari: \"Afġānestān\" ] ), officially the Islamic Republic of Afghanistan, is a landlocked country located within South Asia and Central Asia. The country has a population of /1e6 round 0 million, making it the 42nd most populous country in the world. Afghanistan is bordered by Pakistan in the south and east; Iran in the west; Turkmenistan, Uzbekistan, and Tajikistan in the north; and China in the far northeast. Its territory covers 652,000 km2 , making it the 41st largest country in the world.\n",
      "\n",
      "Albania ( , ; Albanian: \"Shqipëri/Shqipëria\" ; Gheg Albanian: \"Shqipni/Shqipnia or Shqypni/Shqypnia\" ), officially the Republic of Albania (Albanian: \"Republika e Shqipërisë\" , ] ), is a country in Southern and Southeastern Europe. The country spans 28,748 km2 and had a total population of almost 3 million people as of 2016 . Albania is located in the southwestern part of the Balkan Peninsula, bordered by Montenegro to the northwest, Kosovo to the northeast, the Republic of Macedonia to the east, and Greece to the south and southeast. The country has a coastline on the northern shore of the Mediterranean Sea, the Adriatic Sea to the west and the Ionian Sea to the southwest, forming the Albanian Riviera. Albania is less than 72 km from Italy, across the Strait of Otranto which connects the Adriatic Sea to the Ionian Sea. Albania is a unitary parliamentary constitutional republic with the capital in Tirana, the country's largest city and main economic and commercial centre, followed by Durrës. The country's other major cities include Vlorë, Sarandë, Shkodër, Berat, Korçë, Gjirokastër and Fier.\n",
      "\n",
      "Allah ( ; Arabic: الله‎ , \"Allāh \" ‎ , ] ) is the Arabic word for God in Abrahamic religions. In the English language, the word generally refers to God in Islam. The word is thought to be derived by contraction from \"al-ilāh\", which means \"the god\", and is related to \"El\" and \"Elohim\", the Hebrew words for God.\n",
      "\n",
      "Algorithms is a peer-reviewed open access mathematics journal concerning design, analysis, and experiments on algorithms. The journal is published by MDPI and was established in 2008 by founding editor-in-chief is Kazuo Iwama. Its current editor-in-chief is Henning Fernau.\n",
      "\n",
      "Azerbaijan ( ; Azerbaijani: \"Azərbaycan\" , officially the Republic of Azerbaijan (Azerbaijani: \"Azərbaycan Respublikası\" )), is a country in the South Caucasus region, situated at the crossroads of Southwest Asia and Southeastern Europe. It is bound by the Caspian Sea to the east, Russia to the north, Georgia to the northwest, Armenia to the west and Iran to the south. The exclave of Nakhchivan is bound by Armenia to the north and east, Iran to the south and west, while having an 11 km border with Turkey in the north west.\n",
      "\n",
      "Amateur astronomy is a hobby whose participants enjoy observing or imaging celestial objects in the sky using the unaided eye, binoculars, or telescopes. Even though scientific research may not be their primary goal, some amateur astronomers make contributions to the science of astronomy, such as by monitoring variable stars, double stars or occultations of stars by the Moon or asteroids, or by discovering transient objects, such as comets, galactic novae or supernovae in other galaxies.\n",
      "\n",
      "Aikido (Japanese: 合気道 , Hepburn: aikidō ) ] is a modern Japanese martial art developed by Morihei Ueshiba as a synthesis of his martial studies, philosophy, and religious beliefs. Aikido is often translated as \"the way of unifying (with) life energy\" or as \"the way of harmonious spirit\".\n",
      "\n",
      "Art is a diverse range of human activities in creating visual, auditory or performing artifacts (artworks), expressing the author's imaginative or technical skill, intended to be appreciated for their beauty or emotional power. In their most general form these activities include the production of works of art, the criticism of art, the study of the history of art, and the aesthetic dissemination of art.\n",
      "\n",
      "Agnostida is an order of arthropod which first developed near the end of the Early Cambrian period and thrived during the Middle Cambrian. They are present in the Lower Cambrian fossil record along with trilobites from the Redlichiida, Corynexochida, and Ptychopariida orders. The last agnostids went extinct in the Late Ordovician.\n",
      "\n",
      "Abortion is the ending of pregnancy by removing a fetus or embryo before it can survive outside the uterus. An abortion that occurs spontaneously is also known as a miscarriage. An abortion may be caused purposely and is then called an induced abortion, or less frequently, \"induced miscarriage\". The word \"abortion\" is often used to mean only induced abortions. A similar procedure after the fetus could potentially survive outside the womb is known as a \"late termination of pregnancy\".\n",
      "\n",
      "In law, an abstract is a brief statement that contains the most important points of a long legal document or of several related legal papers.\n",
      "\n",
      "The American Revolutionary War (17751783), also known as the American War of Independence, was a global war that began as a conflict between Great Britain and her Thirteen Colonies, which declared independence as the United States of America.\n",
      "\n",
      "The ampere (symbol: A), often shortened to \"amp\", is the base unit of electric current in the International System of Units (SI). It is named after André-Marie Ampère (1775–1836), French mathematician and physicist, considered the father of electrodynamics.\n",
      "\n"
     ]
    }
   ],
   "source": [
    "text_list=[]\n",
    "for l in list:\n",
    "    text_list.append(l[\"text\"])\n",
    "for textl in text_list:\n",
    "    print(textl+'\\n')"
   ]
  },
  {
   "cell_type": "code",
   "execution_count": 19,
   "metadata": {},
   "outputs": [
    {
     "name": "stdout",
     "output_type": "stream",
     "text": [
      "305\n"
     ]
    }
   ],
   "source": [
    "print(list[5]['_id'])"
   ]
  },
  {
   "cell_type": "code",
   "execution_count": 22,
   "metadata": {},
   "outputs": [
    {
     "name": "stdout",
     "output_type": "stream",
     "text": [
      "{'url': 'https://en.wikipedia.org/wiki?curid=39'}\n"
     ]
    }
   ],
   "source": [
    "print(list[2]['metadata'])"
   ]
  },
  {
   "cell_type": "code",
   "execution_count": 38,
   "metadata": {},
   "outputs": [
    {
     "name": "stderr",
     "output_type": "stream",
     "text": [
      "<>:1: SyntaxWarning: invalid escape sequence '\\h'\n",
      "<>:1: SyntaxWarning: invalid escape sequence '\\h'\n",
      "C:\\Users\\79298\\AppData\\Local\\Temp\\ipykernel_29376\\3107727532.py:1: SyntaxWarning: invalid escape sequence '\\h'\n",
      "  path = \"datasets\\hotpotqa\\queries.jsonl\\queries.jsonl\"  # 替换为实际路径\n"
     ]
    }
   ],
   "source": [
    "path = \"datasets\\hotpotqa\\queries.jsonl\\queries.jsonl\"  # 替换为实际路径\n",
    "count=0\n",
    "qlist=[]\n",
    "with open(path, 'r', encoding='utf-8') as f:\n",
    "    for line in f:\n",
    "        #if(count==10):break\n",
    "        try:\n",
    "            data = json.loads(line.strip())  # 去除每行末尾的换行符并解析\n",
    "            #print(data)  # 这里可以对每一行的JSON对象进行处理\n",
    "            qlist.append(data)\n",
    "        except json.JSONDecodeError as e:\n",
    "            print(f\"Error decoding line: {e}\")\n",
    "        #count+=1"
   ]
  },
  {
   "cell_type": "code",
   "execution_count": 40,
   "metadata": {},
   "outputs": [
    {
     "name": "stdout",
     "output_type": "stream",
     "text": [
      "97852\n"
     ]
    }
   ],
   "source": [
    "print(len(qlist))"
   ]
  },
  {
   "cell_type": "code",
   "execution_count": 13,
   "metadata": {},
   "outputs": [
    {
     "name": "stdout",
     "output_type": "stream",
     "text": [
      "{'_id': '5ab6d31155429954757d3384', 'text': 'What country of origin does House of Cosbys and Bill Cosby have in common?', 'metadata': {'answer': 'American', 'supporting_facts': [['House of Cosbys', 0], ['Bill Cosby', 0]]}}\n"
     ]
    }
   ],
   "source": [
    "print(qlist[0])"
   ]
  },
  {
   "cell_type": "code",
   "execution_count": 14,
   "metadata": {},
   "outputs": [
    {
     "name": "stdout",
     "output_type": "stream",
     "text": [
      "dict_keys(['_id', 'text', 'metadata'])\n"
     ]
    }
   ],
   "source": [
    "print(qlist[0].keys())"
   ]
  },
  {
   "cell_type": "code",
   "execution_count": 44,
   "metadata": {},
   "outputs": [
    {
     "name": "stdout",
     "output_type": "stream",
     "text": [
      "What country of origin does House of Cosbys and Bill Cosby have in common?\n"
     ]
    }
   ],
   "source": [
    "print(qlist[0]['text'])"
   ]
  },
  {
   "cell_type": "code",
   "execution_count": 41,
   "metadata": {},
   "outputs": [
    {
     "name": "stderr",
     "output_type": "stream",
     "text": [
      "<>:1: SyntaxWarning: invalid escape sequence '\\h'\n",
      "<>:1: SyntaxWarning: invalid escape sequence '\\h'\n",
      "C:\\Users\\79298\\AppData\\Local\\Temp\\ipykernel_29376\\1944296897.py:1: SyntaxWarning: invalid escape sequence '\\h'\n",
      "  path = \"datasets\\hotpotqa\\corpus.jsonl\\corpus.jsonl\"  # 替换为实际路径\n"
     ]
    }
   ],
   "source": [
    "path = \"datasets\\hotpotqa\\corpus.jsonl\\corpus.jsonl\"  # 替换为实际路径\n",
    "count=0\n",
    "list=[]\n",
    "with open(path, 'r', encoding='utf-8') as f:\n",
    "    for line in f:\n",
    "        #if(count==100):break\n",
    "        try:\n",
    "            data = json.loads(line.strip())  # 去除每行末尾的换行符并解析\n",
    "            #print(data)  # 这里可以对每一行的JSON对象进行处理\n",
    "            list.append(data)\n",
    "        except json.JSONDecodeError as e:\n",
    "            print(f\"Error decoding line: {e}\")\n",
    "        #count+=1"
   ]
  },
  {
   "cell_type": "code",
   "execution_count": 42,
   "metadata": {},
   "outputs": [
    {
     "name": "stdout",
     "output_type": "stream",
     "text": [
      "5233329\n"
     ]
    }
   ],
   "source": [
    "print(len(list))"
   ]
  },
  {
   "cell_type": "code",
   "execution_count": null,
   "metadata": {},
   "outputs": [],
   "source": []
  }
 ],
 "metadata": {
  "kernelspec": {
   "display_name": "lightrag",
   "language": "python",
   "name": "python3"
  },
  "language_info": {
   "codemirror_mode": {
    "name": "ipython",
    "version": 3
   },
   "file_extension": ".py",
   "mimetype": "text/x-python",
   "name": "python",
   "nbconvert_exporter": "python",
   "pygments_lexer": "ipython3",
   "version": "3.12.7"
  }
 },
 "nbformat": 4,
 "nbformat_minor": 2
}
